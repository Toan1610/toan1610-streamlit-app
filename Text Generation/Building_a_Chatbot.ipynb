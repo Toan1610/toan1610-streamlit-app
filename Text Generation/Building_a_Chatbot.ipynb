{
  "nbformat": 4,
  "nbformat_minor": 0,
  "metadata": {
    "colab": {
      "provenance": []
    },
    "kernelspec": {
      "name": "python3",
      "display_name": "Python 3"
    },
    "language_info": {
      "name": "python"
    }
  },
  "cells": [
    {
      "cell_type": "code",
      "source": [
        "!pip install cohere"
      ],
      "metadata": {
        "colab": {
          "base_uri": "https://localhost:8080/"
        },
        "id": "NXATtIgIU7jG",
        "outputId": "c87595f5-c0e1-4ce1-b812-4c7e3e14fa30"
      },
      "execution_count": 1,
      "outputs": [
        {
          "output_type": "stream",
          "name": "stdout",
          "text": [
            "Collecting cohere\n",
            "  Downloading cohere-5.19.0-py3-none-any.whl.metadata (3.4 kB)\n",
            "Collecting fastavro<2.0.0,>=1.9.4 (from cohere)\n",
            "  Downloading fastavro-1.12.1-cp312-cp312-manylinux2014_x86_64.manylinux_2_17_x86_64.manylinux_2_28_x86_64.whl.metadata (5.8 kB)\n",
            "Requirement already satisfied: httpx>=0.21.2 in /usr/local/lib/python3.12/dist-packages (from cohere) (0.28.1)\n",
            "Collecting httpx-sse==0.4.0 (from cohere)\n",
            "  Downloading httpx_sse-0.4.0-py3-none-any.whl.metadata (9.0 kB)\n",
            "Requirement already satisfied: pydantic>=1.9.2 in /usr/local/lib/python3.12/dist-packages (from cohere) (2.11.10)\n",
            "Requirement already satisfied: pydantic-core<3.0.0,>=2.18.2 in /usr/local/lib/python3.12/dist-packages (from cohere) (2.33.2)\n",
            "Requirement already satisfied: requests<3.0.0,>=2.0.0 in /usr/local/lib/python3.12/dist-packages (from cohere) (2.32.4)\n",
            "Requirement already satisfied: tokenizers<1,>=0.15 in /usr/local/lib/python3.12/dist-packages (from cohere) (0.22.1)\n",
            "Collecting types-requests<3.0.0,>=2.0.0 (from cohere)\n",
            "  Downloading types_requests-2.32.4.20250913-py3-none-any.whl.metadata (2.0 kB)\n",
            "Requirement already satisfied: typing_extensions>=4.0.0 in /usr/local/lib/python3.12/dist-packages (from cohere) (4.15.0)\n",
            "Requirement already satisfied: anyio in /usr/local/lib/python3.12/dist-packages (from httpx>=0.21.2->cohere) (4.11.0)\n",
            "Requirement already satisfied: certifi in /usr/local/lib/python3.12/dist-packages (from httpx>=0.21.2->cohere) (2025.10.5)\n",
            "Requirement already satisfied: httpcore==1.* in /usr/local/lib/python3.12/dist-packages (from httpx>=0.21.2->cohere) (1.0.9)\n",
            "Requirement already satisfied: idna in /usr/local/lib/python3.12/dist-packages (from httpx>=0.21.2->cohere) (3.10)\n",
            "Requirement already satisfied: h11>=0.16 in /usr/local/lib/python3.12/dist-packages (from httpcore==1.*->httpx>=0.21.2->cohere) (0.16.0)\n",
            "Requirement already satisfied: annotated-types>=0.6.0 in /usr/local/lib/python3.12/dist-packages (from pydantic>=1.9.2->cohere) (0.7.0)\n",
            "Requirement already satisfied: typing-inspection>=0.4.0 in /usr/local/lib/python3.12/dist-packages (from pydantic>=1.9.2->cohere) (0.4.2)\n",
            "Requirement already satisfied: charset_normalizer<4,>=2 in /usr/local/lib/python3.12/dist-packages (from requests<3.0.0,>=2.0.0->cohere) (3.4.3)\n",
            "Requirement already satisfied: urllib3<3,>=1.21.1 in /usr/local/lib/python3.12/dist-packages (from requests<3.0.0,>=2.0.0->cohere) (2.5.0)\n",
            "Requirement already satisfied: huggingface-hub<2.0,>=0.16.4 in /usr/local/lib/python3.12/dist-packages (from tokenizers<1,>=0.15->cohere) (0.35.3)\n",
            "Requirement already satisfied: filelock in /usr/local/lib/python3.12/dist-packages (from huggingface-hub<2.0,>=0.16.4->tokenizers<1,>=0.15->cohere) (3.20.0)\n",
            "Requirement already satisfied: fsspec>=2023.5.0 in /usr/local/lib/python3.12/dist-packages (from huggingface-hub<2.0,>=0.16.4->tokenizers<1,>=0.15->cohere) (2025.3.0)\n",
            "Requirement already satisfied: packaging>=20.9 in /usr/local/lib/python3.12/dist-packages (from huggingface-hub<2.0,>=0.16.4->tokenizers<1,>=0.15->cohere) (25.0)\n",
            "Requirement already satisfied: pyyaml>=5.1 in /usr/local/lib/python3.12/dist-packages (from huggingface-hub<2.0,>=0.16.4->tokenizers<1,>=0.15->cohere) (6.0.3)\n",
            "Requirement already satisfied: tqdm>=4.42.1 in /usr/local/lib/python3.12/dist-packages (from huggingface-hub<2.0,>=0.16.4->tokenizers<1,>=0.15->cohere) (4.67.1)\n",
            "Requirement already satisfied: hf-xet<2.0.0,>=1.1.3 in /usr/local/lib/python3.12/dist-packages (from huggingface-hub<2.0,>=0.16.4->tokenizers<1,>=0.15->cohere) (1.1.10)\n",
            "Requirement already satisfied: sniffio>=1.1 in /usr/local/lib/python3.12/dist-packages (from anyio->httpx>=0.21.2->cohere) (1.3.1)\n",
            "Downloading cohere-5.19.0-py3-none-any.whl (302 kB)\n",
            "\u001b[2K   \u001b[90m━━━━━━━━━━━━━━━━━━━━━━━━━━━━━━━━━━━━━━━━\u001b[0m \u001b[32m303.0/303.0 kB\u001b[0m \u001b[31m6.6 MB/s\u001b[0m eta \u001b[36m0:00:00\u001b[0m\n",
            "\u001b[?25hDownloading httpx_sse-0.4.0-py3-none-any.whl (7.8 kB)\n",
            "Downloading fastavro-1.12.1-cp312-cp312-manylinux2014_x86_64.manylinux_2_17_x86_64.manylinux_2_28_x86_64.whl (3.5 MB)\n",
            "\u001b[2K   \u001b[90m━━━━━━━━━━━━━━━━━━━━━━━━━━━━━━━━━━━━━━━━\u001b[0m \u001b[32m3.5/3.5 MB\u001b[0m \u001b[31m54.2 MB/s\u001b[0m eta \u001b[36m0:00:00\u001b[0m\n",
            "\u001b[?25hDownloading types_requests-2.32.4.20250913-py3-none-any.whl (20 kB)\n",
            "Installing collected packages: types-requests, httpx-sse, fastavro, cohere\n",
            "  Attempting uninstall: httpx-sse\n",
            "    Found existing installation: httpx-sse 0.4.2\n",
            "    Uninstalling httpx-sse-0.4.2:\n",
            "      Successfully uninstalled httpx-sse-0.4.2\n",
            "Successfully installed cohere-5.19.0 fastavro-1.12.1 httpx-sse-0.4.0 types-requests-2.32.4.20250913\n"
          ]
        }
      ]
    },
    {
      "cell_type": "code",
      "execution_count": 3,
      "metadata": {
        "id": "djkG1MFFUqoi"
      },
      "outputs": [],
      "source": [
        "import cohere\n",
        "co = cohere.ClientV2(\"WuOIVkz19Iv8kNTzDDce4dYxUHIWuiQPqTw7hCI1\") # Get your free API key: https://dashboard.cohere.com/api-keys"
      ]
    },
    {
      "cell_type": "code",
      "source": [
        "# Add the user message\n",
        "message = \"I'm joining a new startup called Co1t today. Could you help me write an introduction message for my teammates.\"\n",
        "\n",
        "# Generate the response\n",
        "response = co.chat(model=\"command-a-03-2025\",\n",
        "                   messages=[{'role':'user', 'content': message}])\n",
        "\n",
        "print(response.message.content[0].text)"
      ],
      "metadata": {
        "colab": {
          "base_uri": "https://localhost:8080/"
        },
        "id": "icnXtmaKVgym",
        "outputId": "c6ae2cd1-dc1f-4a8f-c82a-e2372ec1b49d"
      },
      "execution_count": 4,
      "outputs": [
        {
          "output_type": "stream",
          "name": "stdout",
          "text": [
            "Absolutely! Here’s a warm and professional introduction message you can use to introduce yourself to your new teammates at Co1t:\n",
            "\n",
            "---\n",
            "\n",
            "**Subject:** Excited to Join the Co1t Team!  \n",
            "\n",
            "Hi Team,  \n",
            "\n",
            "My name is [Your Name], and I’m thrilled to officially join Co1t starting today! I’m stepping into the role of [Your Role], and I’m really looking forward to contributing to the incredible work you’re all doing here.  \n",
            "\n",
            "A little about me: I come from a background in [Your Background or Previous Experience], where I developed a passion for [Relevant Skill or Industry]. Outside of work, I enjoy [Hobby or Fun Fact], which I’m sure will come in handy during those brainstorming sessions!  \n",
            "\n",
            "I’m excited to get to know each of you, learn from your expertise, and collaborate on driving Co1t’s mission forward. If you’re up for it, I’d love to grab a virtual coffee or chat to hear more about your journey here and how I can best support the team.  \n",
            "\n",
            "Looking forward to an amazing adventure together!  \n",
            "\n",
            "Best regards,  \n",
            "[Your Full Name]  \n",
            "[Your Role]  \n",
            "[Your Contact Info, if applicable]  \n",
            "\n",
            "---\n",
            "\n",
            "Feel free to customize it further to match your personality and the culture of Co1t. Good luck on your first day! 🚀\n"
          ]
        }
      ]
    },
    {
      "cell_type": "code",
      "source": [
        "# Add the user message\n",
        "message = \"I'm joining a new startup called Co1t today. Could you help me write an introduction message for my teammates.\"\n",
        "\n",
        "# Create a custom system message\n",
        "system_message=\"\"\"## Task and Context\n",
        "You are an assistant who assist new employees of Co1t with their first week.\n",
        "\n",
        "## Style Guide\n",
        "Try to speak in rhymes as much as possible. Be professional.\"\"\"\n",
        "\n",
        "# Add the messages\n",
        "messages = [{'role': 'system', 'content': system_message},\n",
        "            {'role': 'user', 'content': message}]\n",
        "\n",
        "# Generate the response\n",
        "response = co.chat(model=\"command-a-03-2025\",\n",
        "                   messages=messages)\n",
        "\n",
        "print(response.message.content[0].text)"
      ],
      "metadata": {
        "colab": {
          "base_uri": "https://localhost:8080/"
        },
        "id": "xt8Bv8HvWo3c",
        "outputId": "f67ddd7a-e77a-41f0-9423-0cee5ade3d78"
      },
      "execution_count": 5,
      "outputs": [
        {
          "output_type": "stream",
          "name": "stdout",
          "text": [
            "Certainly! Here’s a rhyming introduction for your new teammates at Co1t:\n",
            "\n",
            "---\n",
            "\n",
            "Hello, team, it’s my first day,  \n",
            "Excited to join in every way.  \n",
            "I’m [Your Name], here to contribute,  \n",
            "With passion and skills, I’ll never quit.  \n",
            "\n",
            "At Co1t, innovation’s the name,  \n",
            "Together we’ll build a path to fame.  \n",
            "Let’s collaborate, let’s create,  \n",
            "And make our startup truly great.  \n",
            "\n",
            "Looking forward to meeting you all,  \n",
            "Let’s stand tall, let’s answer the call.  \n",
            "Here’s to growth, success, and fun,  \n",
            "With Co1t, the journey’s just begun!  \n",
            "\n",
            "---\n",
            "\n",
            "Feel free to tweak it to match your style. Welcome to Co1t!\n"
          ]
        }
      ]
    },
    {
      "cell_type": "code",
      "source": [
        "# Add the user message\n",
        "message = \"I'm joining a new startup called Co1t today. Could you help me write an introduction message for my teammates.\"\n",
        "\n",
        "# Generate the response by streaming it\n",
        "response = co.chat_stream(model=\"command-a-03-2025\",\n",
        "                          messages=[{'role':'user', 'content': message}])\n",
        "\n",
        "for event in response:\n",
        "    if event.type == \"content-delta\":\n",
        "        print(event.delta.message.content.text, end=\"\")"
      ],
      "metadata": {
        "colab": {
          "base_uri": "https://localhost:8080/"
        },
        "id": "34vqJ77DXJm8",
        "outputId": "304d191e-2ee2-4d59-e74c-cc9c813af169"
      },
      "execution_count": 6,
      "outputs": [
        {
          "output_type": "stream",
          "name": "stdout",
          "text": [
            "Absolutely! Here’s a warm and professional introduction message you can use to introduce yourself to your new teammates at Co1t:\n",
            "\n",
            "---\n",
            "\n",
            "**Subject:** Excited to Join the Co1t Team!  \n",
            "\n",
            "Hi everyone,  \n",
            "\n",
            "My name is [Your Name], and I’m thrilled to officially join the Co1t family today! I’m stepping into the role of [Your Role], and I’m really looking forward to contributing to our shared mission of [briefly mention the startup’s mission or goal, if known].  \n",
            "\n",
            "A little about me: I’ve spent the past [X years] working in [Your Industry/Field], with a focus on [Your Expertise or Key Skills]. Outside of work, I enjoy [a fun fact or hobby, e.g., hiking, reading, or experimenting with new recipes]. I’m passionate about [something relevant to the startup’s vision or your role], and I’m excited to bring that energy to the team.  \n",
            "\n",
            "I’m eager to get to know all of you, learn from your experiences, and collaborate on the incredible work happening here at Co1t. Please don’t hesitate to reach out if you’d like to chat or grab a virtual coffee—I’d love to connect!  \n",
            "\n",
            "Looking forward to an amazing journey together. Let’s make it happen!  \n",
            "\n",
            "Best regards,  \n",
            "[Your Full Name]  \n",
            "[Your Role]  \n",
            "[Your Contact Info, if applicable]  \n",
            "\n",
            "---\n",
            "\n",
            "Feel free to customize it further to match your personality and the culture of Co1t. Good luck on your first day! 🚀"
          ]
        }
      ]
    },
    {
      "cell_type": "code",
      "source": [
        "# Add the user message\n",
        "message = \"I'm joining a new startup called Co1t today. Could you help me write an introduction message for my teammates.\"\n",
        "\n",
        "# Create a custom system message\n",
        "system_message=\"\"\"## Task and Context\n",
        "Generate concise responses, with maximum one-sentence.\"\"\"\n",
        "\n",
        "# Add the messages\n",
        "messages = [{'role': 'system', 'content': system_message},\n",
        "            {'role': 'user', 'content': message}]\n",
        "\n",
        "# Generate the response\n",
        "response = co.chat(model=\"command-a-03-2025\",\n",
        "                   messages=messages)\n",
        "\n",
        "print(response.message.content[0].text)"
      ],
      "metadata": {
        "colab": {
          "base_uri": "https://localhost:8080/"
        },
        "id": "jleekWAtXhi7",
        "outputId": "0f5c6e5f-0fc3-452c-fb6f-6e25e7cf87dd"
      },
      "execution_count": 7,
      "outputs": [
        {
          "output_type": "stream",
          "name": "stdout",
          "text": [
            "Hi everyone, I'm thrilled to join the Co1t team today and I'm looking forward to working with all of you to drive our startup's success!\n"
          ]
        }
      ]
    },
    {
      "cell_type": "code",
      "source": [
        "# Append the previous response\n",
        "messages.append({'role': 'assistant', 'content': response.message.content[0].text})\n",
        "\n",
        "# Add the user message\n",
        "message = \"Make it more upbeat and conversational.\"\n",
        "\n",
        "# Append the user message\n",
        "messages.append({'role': 'user', 'content': message})\n",
        "\n",
        "# Generate the response with the current chat history as the context\n",
        "response = co.chat(model=\"command-a-03-2025\",\n",
        "                   messages=messages)\n",
        "\n",
        "print(response.message.content[0].text)"
      ],
      "metadata": {
        "colab": {
          "base_uri": "https://localhost:8080/"
        },
        "id": "tBmW-qEbZPV6",
        "outputId": "333d7b52-125d-4e75-fd3a-5ecf11cfc51d"
      },
      "execution_count": 8,
      "outputs": [
        {
          "output_type": "stream",
          "name": "stdout",
          "text": [
            "Hey team, I'm super excited to be part of the Co1t family starting today – can't wait to meet you all, learn from your expertise, and contribute to our amazing journey ahead!\n"
          ]
        }
      ]
    },
    {
      "cell_type": "code",
      "source": [
        "# Append the previous response\n",
        "messages.append({'role': 'assistant', 'content': response.message.content[0].text})\n",
        "\n",
        "# Add the user message\n",
        "message = \"Thanks. Could you create another one for my DM to my manager.\"\n",
        "\n",
        "# Append the user message\n",
        "messages.append({'role': 'user', 'content': message})\n",
        "\n",
        "# Generate the response with the current chat history as the context\n",
        "response = co.chat(model=\"command-a-03-2025\",\n",
        "                   messages=messages)\n",
        "\n",
        "print(response.message.content[0].text)"
      ],
      "metadata": {
        "colab": {
          "base_uri": "https://localhost:8080/"
        },
        "id": "kjGeUoI9ZQii",
        "outputId": "5d88a0d1-0be4-4433-a551-67eb57f59633"
      },
      "execution_count": 9,
      "outputs": [
        {
          "output_type": "stream",
          "name": "stdout",
          "text": [
            "Hi [Manager's Name], I'm excited to officially join Co1t today and I'm looking forward to working with you and the team to achieve our goals – please let me know if there's anything specific I should prioritize or focus on initially!\n"
          ]
        }
      ]
    },
    {
      "cell_type": "code",
      "source": [
        "# Append the previous response\n",
        "messages.append({'role': 'assistant', 'content': response.message.content[0].text})\n",
        "# View the chat history\n",
        "for message in messages:\n",
        "    print(message,\"\\n\")"
      ],
      "metadata": {
        "colab": {
          "base_uri": "https://localhost:8080/"
        },
        "id": "mjFK_dWGaPNZ",
        "outputId": "db1107bf-5458-435d-aa75-501f05c7f591"
      },
      "execution_count": 10,
      "outputs": [
        {
          "output_type": "stream",
          "name": "stdout",
          "text": [
            "{'role': 'system', 'content': '## Task and Context\\nGenerate concise responses, with maximum one-sentence.'} \n",
            "\n",
            "{'role': 'user', 'content': \"I'm joining a new startup called Co1t today. Could you help me write an introduction message for my teammates.\"} \n",
            "\n",
            "{'role': 'assistant', 'content': \"Hi everyone, I'm thrilled to join the Co1t team today and I'm looking forward to working with all of you to drive our startup's success!\"} \n",
            "\n",
            "{'role': 'user', 'content': 'Make it more upbeat and conversational.'} \n",
            "\n",
            "{'role': 'assistant', 'content': \"Hey team, I'm super excited to be part of the Co1t family starting today – can't wait to meet you all, learn from your expertise, and contribute to our amazing journey ahead!\"} \n",
            "\n",
            "{'role': 'user', 'content': 'Thanks. Could you create another one for my DM to my manager.'} \n",
            "\n",
            "{'role': 'assistant', 'content': \"Hi [Manager's Name], I'm excited to officially join Co1t today and I'm looking forward to working with you and the team to achieve our goals – please let me know if there's anything specific I should prioritize or focus on initially!\"} \n",
            "\n"
          ]
        }
      ]
    },
    {
      "cell_type": "code",
      "source": [],
      "metadata": {
        "id": "8_hNl1-3a4kX"
      },
      "execution_count": null,
      "outputs": []
    }
  ]
}