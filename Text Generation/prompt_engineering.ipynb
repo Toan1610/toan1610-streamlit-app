{
  "nbformat": 4,
  "nbformat_minor": 0,
  "metadata": {
    "colab": {
      "provenance": []
    },
    "kernelspec": {
      "name": "python3",
      "display_name": "Python 3"
    },
    "language_info": {
      "name": "python"
    }
  },
  "cells": [
    {
      "cell_type": "code",
      "execution_count": 1,
      "metadata": {
        "colab": {
          "base_uri": "https://localhost:8080/"
        },
        "id": "uQf5dEg8d2kp",
        "outputId": "3901367f-9be8-4800-d2a9-0dc3e9d03914"
      },
      "outputs": [
        {
          "output_type": "stream",
          "name": "stdout",
          "text": [
            "Collecting cohere\n",
            "  Downloading cohere-5.19.0-py3-none-any.whl.metadata (3.4 kB)\n",
            "Collecting fastavro<2.0.0,>=1.9.4 (from cohere)\n",
            "  Downloading fastavro-1.12.1-cp312-cp312-manylinux2014_x86_64.manylinux_2_17_x86_64.manylinux_2_28_x86_64.whl.metadata (5.8 kB)\n",
            "Requirement already satisfied: httpx>=0.21.2 in /usr/local/lib/python3.12/dist-packages (from cohere) (0.28.1)\n",
            "Collecting httpx-sse==0.4.0 (from cohere)\n",
            "  Downloading httpx_sse-0.4.0-py3-none-any.whl.metadata (9.0 kB)\n",
            "Requirement already satisfied: pydantic>=1.9.2 in /usr/local/lib/python3.12/dist-packages (from cohere) (2.11.10)\n",
            "Requirement already satisfied: pydantic-core<3.0.0,>=2.18.2 in /usr/local/lib/python3.12/dist-packages (from cohere) (2.33.2)\n",
            "Requirement already satisfied: requests<3.0.0,>=2.0.0 in /usr/local/lib/python3.12/dist-packages (from cohere) (2.32.4)\n",
            "Requirement already satisfied: tokenizers<1,>=0.15 in /usr/local/lib/python3.12/dist-packages (from cohere) (0.22.1)\n",
            "Collecting types-requests<3.0.0,>=2.0.0 (from cohere)\n",
            "  Downloading types_requests-2.32.4.20250913-py3-none-any.whl.metadata (2.0 kB)\n",
            "Requirement already satisfied: typing_extensions>=4.0.0 in /usr/local/lib/python3.12/dist-packages (from cohere) (4.15.0)\n",
            "Requirement already satisfied: anyio in /usr/local/lib/python3.12/dist-packages (from httpx>=0.21.2->cohere) (4.11.0)\n",
            "Requirement already satisfied: certifi in /usr/local/lib/python3.12/dist-packages (from httpx>=0.21.2->cohere) (2025.10.5)\n",
            "Requirement already satisfied: httpcore==1.* in /usr/local/lib/python3.12/dist-packages (from httpx>=0.21.2->cohere) (1.0.9)\n",
            "Requirement already satisfied: idna in /usr/local/lib/python3.12/dist-packages (from httpx>=0.21.2->cohere) (3.10)\n",
            "Requirement already satisfied: h11>=0.16 in /usr/local/lib/python3.12/dist-packages (from httpcore==1.*->httpx>=0.21.2->cohere) (0.16.0)\n",
            "Requirement already satisfied: annotated-types>=0.6.0 in /usr/local/lib/python3.12/dist-packages (from pydantic>=1.9.2->cohere) (0.7.0)\n",
            "Requirement already satisfied: typing-inspection>=0.4.0 in /usr/local/lib/python3.12/dist-packages (from pydantic>=1.9.2->cohere) (0.4.2)\n",
            "Requirement already satisfied: charset_normalizer<4,>=2 in /usr/local/lib/python3.12/dist-packages (from requests<3.0.0,>=2.0.0->cohere) (3.4.3)\n",
            "Requirement already satisfied: urllib3<3,>=1.21.1 in /usr/local/lib/python3.12/dist-packages (from requests<3.0.0,>=2.0.0->cohere) (2.5.0)\n",
            "Requirement already satisfied: huggingface-hub<2.0,>=0.16.4 in /usr/local/lib/python3.12/dist-packages (from tokenizers<1,>=0.15->cohere) (0.35.3)\n",
            "Requirement already satisfied: filelock in /usr/local/lib/python3.12/dist-packages (from huggingface-hub<2.0,>=0.16.4->tokenizers<1,>=0.15->cohere) (3.20.0)\n",
            "Requirement already satisfied: fsspec>=2023.5.0 in /usr/local/lib/python3.12/dist-packages (from huggingface-hub<2.0,>=0.16.4->tokenizers<1,>=0.15->cohere) (2025.3.0)\n",
            "Requirement already satisfied: packaging>=20.9 in /usr/local/lib/python3.12/dist-packages (from huggingface-hub<2.0,>=0.16.4->tokenizers<1,>=0.15->cohere) (25.0)\n",
            "Requirement already satisfied: pyyaml>=5.1 in /usr/local/lib/python3.12/dist-packages (from huggingface-hub<2.0,>=0.16.4->tokenizers<1,>=0.15->cohere) (6.0.3)\n",
            "Requirement already satisfied: tqdm>=4.42.1 in /usr/local/lib/python3.12/dist-packages (from huggingface-hub<2.0,>=0.16.4->tokenizers<1,>=0.15->cohere) (4.67.1)\n",
            "Requirement already satisfied: hf-xet<2.0.0,>=1.1.3 in /usr/local/lib/python3.12/dist-packages (from huggingface-hub<2.0,>=0.16.4->tokenizers<1,>=0.15->cohere) (1.1.10)\n",
            "Requirement already satisfied: sniffio>=1.1 in /usr/local/lib/python3.12/dist-packages (from anyio->httpx>=0.21.2->cohere) (1.3.1)\n",
            "Downloading cohere-5.19.0-py3-none-any.whl (302 kB)\n",
            "\u001b[2K   \u001b[90m━━━━━━━━━━━━━━━━━━━━━━━━━━━━━━━━━━━━━━━━\u001b[0m \u001b[32m303.0/303.0 kB\u001b[0m \u001b[31m5.0 MB/s\u001b[0m eta \u001b[36m0:00:00\u001b[0m\n",
            "\u001b[?25hDownloading httpx_sse-0.4.0-py3-none-any.whl (7.8 kB)\n",
            "Downloading fastavro-1.12.1-cp312-cp312-manylinux2014_x86_64.manylinux_2_17_x86_64.manylinux_2_28_x86_64.whl (3.5 MB)\n",
            "\u001b[2K   \u001b[90m━━━━━━━━━━━━━━━━━━━━━━━━━━━━━━━━━━━━━━━━\u001b[0m \u001b[32m3.5/3.5 MB\u001b[0m \u001b[31m78.1 MB/s\u001b[0m eta \u001b[36m0:00:00\u001b[0m\n",
            "\u001b[?25hDownloading types_requests-2.32.4.20250913-py3-none-any.whl (20 kB)\n",
            "Installing collected packages: types-requests, httpx-sse, fastavro, cohere\n",
            "  Attempting uninstall: httpx-sse\n",
            "    Found existing installation: httpx-sse 0.4.2\n",
            "    Uninstalling httpx-sse-0.4.2:\n",
            "      Successfully uninstalled httpx-sse-0.4.2\n",
            "Successfully installed cohere-5.19.0 fastavro-1.12.1 httpx-sse-0.4.0 types-requests-2.32.4.20250913\n"
          ]
        }
      ],
      "source": [
        "!pip install cohere"
      ]
    },
    {
      "cell_type": "code",
      "source": [
        "import cohere\n",
        "co = cohere.ClientV2(\"WuOIVkz19Iv8kNTzDDce4dYxUHIWuiQPqTw7hCI1\") # Get your free API key: https://dashboard.cohere.com/api-keys"
      ],
      "metadata": {
        "id": "Zuzy2yNRfZTj"
      },
      "execution_count": 2,
      "outputs": []
    },
    {
      "cell_type": "code",
      "source": [
        "def generate_text(message):\n",
        "    # Generate the response by streaming it\n",
        "    response = co.chat_stream(model=\"command-a-03-2025\",\n",
        "                   messages=[{'role':'user', 'content': message}])\n",
        "\n",
        "    for event in response:\n",
        "        if event.type == \"content-delta\":\n",
        "            print(event.delta.message.content.text, end=\"\")"
      ],
      "metadata": {
        "id": "mDg5adcEfabj"
      },
      "execution_count": 3,
      "outputs": []
    },
    {
      "cell_type": "code",
      "source": [
        "generate_text(\"Generate a concise product description for the product: wireless earbuds.\")"
      ],
      "metadata": {
        "colab": {
          "base_uri": "https://localhost:8080/"
        },
        "id": "w3cfahPSfp2K",
        "outputId": "ce84df10-711f-4833-cef6-c9619f2c7d70"
      },
      "execution_count": 4,
      "outputs": [
        {
          "output_type": "stream",
          "name": "stdout",
          "text": [
            "**Wireless Earbuds: Seamless Audio, Unmatched Freedom**  \n",
            "Experience crystal-clear sound and ultimate convenience with our wireless earbuds. Designed for all-day comfort, they feature a secure fit, intuitive touch controls, and long-lasting battery life. Enjoy immersive audio, hands-free calling, and hassle-free connectivity—perfect for workouts, travel, or everyday use. Compact, stylish, and water-resistant, these earbuds redefine your listening experience."
          ]
        }
      ]
    },
    {
      "cell_type": "code",
      "source": [
        "generate_text(\"\"\"\n",
        "    Generate a concise product description for the product: wireless earbuds.\n",
        "    Use the following format: Hook, Solution, Features and Benefits, Call to Action.\n",
        "    \"\"\")"
      ],
      "metadata": {
        "colab": {
          "base_uri": "https://localhost:8080/"
        },
        "id": "n6lxlh9zfsbr",
        "outputId": "291c0214-11d8-4bc9-babf-757ddcd0a7e4"
      },
      "execution_count": 5,
      "outputs": [
        {
          "output_type": "stream",
          "name": "stdout",
          "text": [
            "**Hook:**  \n",
            "Tired of tangled cords and limited mobility? Elevate your listening experience with our cutting-edge wireless earbuds.  \n",
            "\n",
            "**Solution:**  \n",
            "Our wireless earbuds offer seamless connectivity, crystal-clear sound, and unmatched freedom, so you can enjoy music, calls, and more without restrictions.  \n",
            "\n",
            "**Features and Benefits:**  \n",
            "- **True Wireless Design:** No cords, no hassle—just pure convenience.  \n",
            "- **Premium Sound Quality:** Immerse yourself in rich, balanced audio with deep bass and clear highs.  \n",
            "- **Long Battery Life:** Enjoy up to 24 hours of playtime with the charging case.  \n",
            "- **Sweat & Water Resistant:** Perfect for workouts and outdoor activities.  \n",
            "- **Instant Pairing:** Connect effortlessly to your device with one-step Bluetooth pairing.  \n",
            "\n",
            "**Call to Action:**  \n",
            "Upgrade your audio game today! Click “Buy Now” and experience the future of wireless listening."
          ]
        }
      ]
    },
    {
      "cell_type": "code",
      "source": [
        "generate_text(\"\"\"\n",
        "    Summarize this email in one sentence.\n",
        "    Dear [Team Members],\n",
        "    I am writing to thank you for your hard work and dedication in organizing our recent community meetup. The event was a great success and it would not have been possible without your efforts.\n",
        "    I am especially grateful for the time and energy you have invested in making this event a reality. Your commitment to ensuring that everything ran smoothly and that our guests had a great time is greatly appreciated.\n",
        "    I am also thankful for the support and guidance you have provided to me throughout the planning process. Your insights and ideas have been invaluable in ensuring that the event was a success.\n",
        "    I am confident that our community will benefit greatly from this event and I am excited to see the positive impact it will have.\n",
        "    Thank you again for your hard work and dedication. I am looking forward to working with you on future events.\n",
        "    Sincerely,\n",
        "    [Your Name]\n",
        "    \"\"\")"
      ],
      "metadata": {
        "colab": {
          "base_uri": "https://localhost:8080/"
        },
        "id": "OiwxmPgxfxai",
        "outputId": "b9a7d6ba-39c0-4ce3-ff30-a7273c2398a3"
      },
      "execution_count": 6,
      "outputs": [
        {
          "output_type": "stream",
          "name": "stdout",
          "text": [
            "The email expresses gratitude to the team for their hard work and dedication in organizing a successful community meetup, acknowledging their efforts, support, and commitment, and looks forward to future collaborations."
          ]
        }
      ]
    },
    {
      "cell_type": "code",
      "source": [
        "generate_text(\"\"\"\n",
        "    Extract the movie title from the text below.\n",
        "    Deadpool 2 | Official HD Deadpool's \"Wet on Wet\" Teaser | 2018\n",
        "    \"\"\")"
      ],
      "metadata": {
        "colab": {
          "base_uri": "https://localhost:8080/"
        },
        "id": "mCOYjBG5f1DD",
        "outputId": "1f1e0090-252c-49f3-d49c-123dd0b7ca6d"
      },
      "execution_count": 7,
      "outputs": [
        {
          "output_type": "stream",
          "name": "stdout",
          "text": [
            "The movie title extracted from the text is **\"Deadpool 2\"**."
          ]
        }
      ]
    },
    {
      "cell_type": "code",
      "source": [
        "generate_text(\"\"\"\n",
        "    Given the following text, write down a list of potential frequently asked questions (FAQ), together with the answers.\n",
        "    The Cohere Platform provides an API for developers and organizations to access cutting-edge LLMs without needing machine learning know-how.\n",
        "    The platform handles all the complexities of curating massive amounts of text data, model development, distributed training, model serving, and more.\n",
        "    This means that developers can focus on creating value on the applied side rather than spending time and effort on the capability-building side.\n",
        "\n",
        "    There are two key types of language processing capabilities that the Cohere Platform provides — text generation and text embedding — and each is served by a different type of model.\n",
        "\n",
        "    With text generation, we enter a piece of text, or prompt, and get back a stream of text as a completion to the prompt.\n",
        "    One example is asking the model to write a haiku (the prompt) and getting an originally written haiku in return (the completion).\n",
        "\n",
        "    With text embedding, we enter a piece of text and get back a list of numbers that represents its semantic meaning (we’ll see what “semantic” means in a section below).\n",
        "    This is useful for use cases that involve “measuring” what a passage of text represents, for example, in analyzing its sentiment.\n",
        "    \"\"\")"
      ],
      "metadata": {
        "colab": {
          "base_uri": "https://localhost:8080/"
        },
        "id": "FPg8sagqf8tD",
        "outputId": "3b383f0f-f603-48d1-eb39-48d67c084f7f"
      },
      "execution_count": 8,
      "outputs": [
        {
          "output_type": "stream",
          "name": "stdout",
          "text": [
            "Here’s a list of potential frequently asked questions (FAQ) based on the provided text, along with their answers:\n",
            "\n",
            "**1. What is the Cohere Platform?**  \n",
            "**Answer:** The Cohere Platform is an API-based service that provides developers and organizations access to cutting-edge Large Language Models (LLMs) without requiring machine learning expertise. It handles complexities like data curation, model development, training, and serving, allowing developers to focus on creating value through applications.\n",
            "\n",
            "**2. What are the key language processing capabilities offered by the Cohere Platform?**  \n",
            "**Answer:** The Cohere Platform offers two main capabilities: **text generation** and **text embedding**. These are powered by different types of models tailored to each task.\n",
            "\n",
            "**3. What is text generation, and how does it work?**  \n",
            "**Answer:** Text generation involves entering a piece of text (prompt) and receiving a stream of text as a completion. For example, if you prompt the model to write a haiku, it will generate an original haiku as the completion.\n",
            "\n",
            "**4. What is text embedding, and what is it used for?**  \n",
            "**Answer:** Text embedding involves entering a piece of text and receiving a list of numbers that represent its semantic meaning. This is useful for tasks like measuring the sentiment of a passage or analyzing its content in a quantitative way.\n",
            "\n",
            "**5. What does “semantic meaning” refer to in text embedding?**  \n",
            "**Answer:** Semantic meaning refers to the underlying meaning or essence of a piece of text. Text embeddings capture this meaning in a numerical form, allowing for comparisons, analyses, and other applications like sentiment analysis or clustering similar texts.\n",
            "\n",
            "**6. Do I need machine learning expertise to use the Cohere Platform?**  \n",
            "**Answer:** No, the Cohere Platform is designed to abstract away the complexities of machine learning. Developers can focus on building applications without needing to understand the underlying model development, training, or serving processes.\n",
            "\n",
            "**7. What are some practical use cases for the Cohere Platform?**  \n",
            "**Answer:** Practical use cases include generating creative content (e.g., writing poetry, articles, or summaries), analyzing text sentiment, clustering similar documents, powering chatbots, and more.\n",
            "\n",
            "**8. How does the Cohere Platform handle large-scale text data?**  \n",
            "**Answer:** The Cohere Platform manages the complexities of curating massive amounts of text data, ensuring that the models are trained on high-quality, diverse datasets to deliver accurate and reliable results.\n",
            "\n",
            "**9. Can I use the Cohere Platform for both creative and analytical tasks?**  \n",
            "**Answer:** Yes, the platform supports both creative tasks (via text generation) and analytical tasks (via text embedding), making it versatile for a wide range of applications.\n",
            "\n",
            "**10. How does the Cohere Platform simplify model serving?**  \n",
            "**Answer:** The Cohere Platform handles model serving by providing a scalable and reliable API, so developers don’t need to worry about infrastructure, latency, or maintenance. They can simply integrate the API into their applications.\n",
            "\n",
            "**11. What is the difference between a prompt and a completion in text generation?**  \n",
            "**Answer:** The **prompt** is the input text provided by the user, and the **completion** is the generated text returned by the model as a continuation or response to the prompt.\n",
            "\n",
            "**12. How can text embedding be used in sentiment analysis?**  \n",
            "**Answer:** Text embedding converts text into numerical vectors that capture its semantic meaning. These vectors can be analyzed to determine the sentiment (e.g., positive, negative, neutral) of the text by comparing it to known sentiment patterns.\n",
            "\n",
            "**13. Is the Cohere Platform suitable for organizations of all sizes?**  \n",
            "**Answer:** Yes, the Cohere Platform is designed to be accessible and scalable for developers and organizations of all sizes, from startups to large enterprises.\n",
            "\n",
            "**14. How does the Cohere Platform ensure high-quality model outputs?**  \n",
            "**Answer:** The platform handles all aspects of model development, including training on large, curated datasets and optimizing for performance, to ensure high-quality and reliable outputs.\n",
            "\n",
            "**15. Can I integrate the Cohere Platform into my existing applications?**  \n",
            "**Answer:** Yes, the Cohere Platform provides an API that can be easily integrated into existing applications, enabling developers to add advanced language processing capabilities without significant changes to their workflow."
          ]
        }
      ]
    },
    {
      "cell_type": "code",
      "source": [],
      "metadata": {
        "id": "d-2vMXVkgCOC"
      },
      "execution_count": null,
      "outputs": []
    }
  ]
}