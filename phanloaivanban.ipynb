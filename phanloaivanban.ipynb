{
  "nbformat": 4,
  "nbformat_minor": 0,
  "metadata": {
    "colab": {
      "provenance": []
    },
    "kernelspec": {
      "name": "python3",
      "display_name": "Python 3"
    },
    "language_info": {
      "name": "python"
    }
  },
  "cells": [
    {
      "cell_type": "code",
      "execution_count": 1,
      "metadata": {
        "id": "_GZjhw6K-xZ0"
      },
      "outputs": [],
      "source": [
        "import pandas as pd\n",
        "import numpy as np\n",
        "import altair as alt\n",
        "from sklearn.decomposition import PCA\n",
        "from sklearn.metrics.pairwise import cosine_similarity\n",
        "from sklearn.cluster import KMeans"
      ]
    },
    {
      "cell_type": "code",
      "source": [
        "!pip install cohere"
      ],
      "metadata": {
        "colab": {
          "base_uri": "https://localhost:8080/"
        },
        "id": "nVLSb-AZ_U4B",
        "outputId": "47eae00f-fd05-4a29-be4b-75f9be42ea09"
      },
      "execution_count": 2,
      "outputs": [
        {
          "output_type": "stream",
          "name": "stdout",
          "text": [
            "Collecting cohere\n",
            "  Downloading cohere-5.19.0-py3-none-any.whl.metadata (3.4 kB)\n",
            "Collecting fastavro<2.0.0,>=1.9.4 (from cohere)\n",
            "  Downloading fastavro-1.12.1-cp312-cp312-manylinux2014_x86_64.manylinux_2_17_x86_64.manylinux_2_28_x86_64.whl.metadata (5.8 kB)\n",
            "Requirement already satisfied: httpx>=0.21.2 in /usr/local/lib/python3.12/dist-packages (from cohere) (0.28.1)\n",
            "Collecting httpx-sse==0.4.0 (from cohere)\n",
            "  Downloading httpx_sse-0.4.0-py3-none-any.whl.metadata (9.0 kB)\n",
            "Requirement already satisfied: pydantic>=1.9.2 in /usr/local/lib/python3.12/dist-packages (from cohere) (2.11.10)\n",
            "Requirement already satisfied: pydantic-core<3.0.0,>=2.18.2 in /usr/local/lib/python3.12/dist-packages (from cohere) (2.33.2)\n",
            "Requirement already satisfied: requests<3.0.0,>=2.0.0 in /usr/local/lib/python3.12/dist-packages (from cohere) (2.32.4)\n",
            "Requirement already satisfied: tokenizers<1,>=0.15 in /usr/local/lib/python3.12/dist-packages (from cohere) (0.22.1)\n",
            "Collecting types-requests<3.0.0,>=2.0.0 (from cohere)\n",
            "  Downloading types_requests-2.32.4.20250913-py3-none-any.whl.metadata (2.0 kB)\n",
            "Requirement already satisfied: typing_extensions>=4.0.0 in /usr/local/lib/python3.12/dist-packages (from cohere) (4.15.0)\n",
            "Requirement already satisfied: anyio in /usr/local/lib/python3.12/dist-packages (from httpx>=0.21.2->cohere) (4.11.0)\n",
            "Requirement already satisfied: certifi in /usr/local/lib/python3.12/dist-packages (from httpx>=0.21.2->cohere) (2025.10.5)\n",
            "Requirement already satisfied: httpcore==1.* in /usr/local/lib/python3.12/dist-packages (from httpx>=0.21.2->cohere) (1.0.9)\n",
            "Requirement already satisfied: idna in /usr/local/lib/python3.12/dist-packages (from httpx>=0.21.2->cohere) (3.10)\n",
            "Requirement already satisfied: h11>=0.16 in /usr/local/lib/python3.12/dist-packages (from httpcore==1.*->httpx>=0.21.2->cohere) (0.16.0)\n",
            "Requirement already satisfied: annotated-types>=0.6.0 in /usr/local/lib/python3.12/dist-packages (from pydantic>=1.9.2->cohere) (0.7.0)\n",
            "Requirement already satisfied: typing-inspection>=0.4.0 in /usr/local/lib/python3.12/dist-packages (from pydantic>=1.9.2->cohere) (0.4.2)\n",
            "Requirement already satisfied: charset_normalizer<4,>=2 in /usr/local/lib/python3.12/dist-packages (from requests<3.0.0,>=2.0.0->cohere) (3.4.3)\n",
            "Requirement already satisfied: urllib3<3,>=1.21.1 in /usr/local/lib/python3.12/dist-packages (from requests<3.0.0,>=2.0.0->cohere) (2.5.0)\n",
            "Requirement already satisfied: huggingface-hub<2.0,>=0.16.4 in /usr/local/lib/python3.12/dist-packages (from tokenizers<1,>=0.15->cohere) (0.35.3)\n",
            "Requirement already satisfied: filelock in /usr/local/lib/python3.12/dist-packages (from huggingface-hub<2.0,>=0.16.4->tokenizers<1,>=0.15->cohere) (3.20.0)\n",
            "Requirement already satisfied: fsspec>=2023.5.0 in /usr/local/lib/python3.12/dist-packages (from huggingface-hub<2.0,>=0.16.4->tokenizers<1,>=0.15->cohere) (2025.3.0)\n",
            "Requirement already satisfied: packaging>=20.9 in /usr/local/lib/python3.12/dist-packages (from huggingface-hub<2.0,>=0.16.4->tokenizers<1,>=0.15->cohere) (25.0)\n",
            "Requirement already satisfied: pyyaml>=5.1 in /usr/local/lib/python3.12/dist-packages (from huggingface-hub<2.0,>=0.16.4->tokenizers<1,>=0.15->cohere) (6.0.3)\n",
            "Requirement already satisfied: tqdm>=4.42.1 in /usr/local/lib/python3.12/dist-packages (from huggingface-hub<2.0,>=0.16.4->tokenizers<1,>=0.15->cohere) (4.67.1)\n",
            "Requirement already satisfied: hf-xet<2.0.0,>=1.1.3 in /usr/local/lib/python3.12/dist-packages (from huggingface-hub<2.0,>=0.16.4->tokenizers<1,>=0.15->cohere) (1.1.10)\n",
            "Requirement already satisfied: sniffio>=1.1 in /usr/local/lib/python3.12/dist-packages (from anyio->httpx>=0.21.2->cohere) (1.3.1)\n",
            "Downloading cohere-5.19.0-py3-none-any.whl (302 kB)\n",
            "\u001b[2K   \u001b[90m━━━━━━━━━━━━━━━━━━━━━━━━━━━━━━━━━━━━━━━━\u001b[0m \u001b[32m303.0/303.0 kB\u001b[0m \u001b[31m10.6 MB/s\u001b[0m eta \u001b[36m0:00:00\u001b[0m\n",
            "\u001b[?25hDownloading httpx_sse-0.4.0-py3-none-any.whl (7.8 kB)\n",
            "Downloading fastavro-1.12.1-cp312-cp312-manylinux2014_x86_64.manylinux_2_17_x86_64.manylinux_2_28_x86_64.whl (3.5 MB)\n",
            "\u001b[2K   \u001b[90m━━━━━━━━━━━━━━━━━━━━━━━━━━━━━━━━━━━━━━━━\u001b[0m \u001b[32m3.5/3.5 MB\u001b[0m \u001b[31m58.0 MB/s\u001b[0m eta \u001b[36m0:00:00\u001b[0m\n",
            "\u001b[?25hDownloading types_requests-2.32.4.20250913-py3-none-any.whl (20 kB)\n",
            "Installing collected packages: types-requests, httpx-sse, fastavro, cohere\n",
            "  Attempting uninstall: httpx-sse\n",
            "    Found existing installation: httpx-sse 0.4.2\n",
            "    Uninstalling httpx-sse-0.4.2:\n",
            "      Successfully uninstalled httpx-sse-0.4.2\n",
            "Successfully installed cohere-5.19.0 fastavro-1.12.1 httpx-sse-0.4.0 types-requests-2.32.4.20250913\n"
          ]
        }
      ]
    },
    {
      "cell_type": "code",
      "source": [
        "import cohere\n",
        "co = cohere.ClientV2(\"WuOIVkz19Iv8kNTzDDce4dYxUHIWuiQPqTw7hCI1\") # Get your free API key: https://dashboard.cohere.com/api-keys"
      ],
      "metadata": {
        "id": "_UPfXSGm_aRZ"
      },
      "execution_count": 3,
      "outputs": []
    },
    {
      "cell_type": "code",
      "source": [
        "# Load the dataset to a dataframe\n",
        "df_orig = pd.read_csv('https://raw.githubusercontent.com/cohere-ai/notebooks/main/notebooks/data/atis_intents_train.csv', names=['intent','query'])\n",
        "\n",
        "# Take a small sample for illustration purposes\n",
        "sample_classes = ['atis_airfare', 'atis_airline', 'atis_ground_service']\n",
        "df = df_orig.sample(frac=0.1, random_state=30)\n",
        "df = df[df.intent.isin(sample_classes)]\n",
        "df_orig = df_orig.drop(df.index)\n",
        "df.reset_index(drop=True,inplace=True)\n",
        "\n",
        "# Remove unnecessary column\n",
        "intents = df['intent'] #save for a later need\n",
        "df.drop(columns=['intent'], inplace=True)"
      ],
      "metadata": {
        "id": "q5k84uUt_fkQ"
      },
      "execution_count": 4,
      "outputs": []
    },
    {
      "cell_type": "code",
      "source": [
        "def get_embeddings(texts, model='embed-english-v3.0', input_type=\"search_document\"):\n",
        "    response = co.embed(\n",
        "        model=model,\n",
        "        input_type=input_type,\n",
        "        texts=texts\n",
        "    )\n",
        "    return response.embeddings.float  # ✅ cách mới"
      ],
      "metadata": {
        "id": "sg5dEVzoByT_"
      },
      "execution_count": 13,
      "outputs": []
    },
    {
      "cell_type": "code",
      "source": [
        "df['query_embeds'] = get_embeddings(df['query'].tolist())"
      ],
      "metadata": {
        "id": "Emn4AfQH_jT4"
      },
      "execution_count": 14,
      "outputs": []
    },
    {
      "cell_type": "code",
      "source": [
        "embeds = np.array(df['query_embeds'].tolist())"
      ],
      "metadata": {
        "id": "B8dGWFoWEBEU"
      },
      "execution_count": 18,
      "outputs": []
    },
    {
      "cell_type": "code",
      "source": [
        "print(len(df))                        # Số dòng DataFrame\n",
        "print(len(df['query_embeds']))        # Phải khớp số dòng\n",
        "print(type(df['query_embeds'][0]))    # <class 'list'>\n",
        "print(len(df['query_embeds'][0]))     # Chiều embedding (thường 1024)"
      ],
      "metadata": {
        "colab": {
          "base_uri": "https://localhost:8080/"
        },
        "id": "008negCxCuUe",
        "outputId": "8a55bb66-fee2-4d74-839a-8cca1df0fad9"
      },
      "execution_count": 15,
      "outputs": [
        {
          "output_type": "stream",
          "name": "stdout",
          "text": [
            "91\n",
            "91\n",
            "<class 'list'>\n",
            "1024\n"
          ]
        }
      ]
    },
    {
      "cell_type": "code",
      "source": [
        "# Define new query\n",
        "new_query = \"How can I find a taxi or a bus when the plane lands?\"\n",
        "\n",
        "# Get embeddings of the new query\n",
        "new_query_embeds = get_embeddings([new_query], input_type=\"search_query\")[0]"
      ],
      "metadata": {
        "id": "m4_KKOzMDzGN"
      },
      "execution_count": 16,
      "outputs": []
    },
    {
      "cell_type": "code",
      "source": [
        "similarity = get_similarity(new_query_embeds, embeds)"
      ],
      "metadata": {
        "id": "idkCmqXUERbr"
      },
      "execution_count": 22,
      "outputs": []
    },
    {
      "cell_type": "code",
      "source": [
        "# Calculate cosine similarity between the search query and existing queries\n",
        "def get_similarity(target, candidates):\n",
        "    # Turn list into array\n",
        "    candidates = np.array(candidates)\n",
        "    target = np.expand_dims(np.array(target),axis=0)\n",
        "\n",
        "    # Calculate cosine similarity\n",
        "    sim = cosine_similarity(target, candidates)\n",
        "    sim = np.squeeze(sim).tolist()\n",
        "    sort_index = np.argsort(sim)[::-1]\n",
        "    sort_score = [sim[i] for i in sort_index]\n",
        "    similarity_scores = zip(sort_index,sort_score)\n",
        "\n",
        "    # Return similarity scores\n",
        "    return similarity_scores\n",
        "\n",
        "# Get the similarity between the search query and existing queries\n",
        "similarity = get_similarity(new_query_embeds, embeds[:sample])"
      ],
      "metadata": {
        "id": "dFSKHdBuD0BF"
      },
      "execution_count": 23,
      "outputs": []
    },
    {
      "cell_type": "code",
      "source": [
        "# View the top 5 articles\n",
        "print('Query:')\n",
        "print(new_query,'\\n')\n",
        "\n",
        "print('Most Similar Documents:')\n",
        "for idx, sim in similarity:\n",
        "    print(f'Similarity: {sim:.2f};', df.iloc[idx]['query'])"
      ],
      "metadata": {
        "colab": {
          "base_uri": "https://localhost:8080/"
        },
        "id": "kAf-FxZ7ETXM",
        "outputId": "2e5b6871-eb4a-46c3-d869-570245e890e1"
      },
      "execution_count": 24,
      "outputs": [
        {
          "output_type": "stream",
          "name": "stdout",
          "text": [
            "Query:\n",
            "How can I find a taxi or a bus when the plane lands? \n",
            "\n",
            "Most Similar Documents:\n",
            "Similarity: 0.37;  show me a list of ground transportation at boston airport\n",
            "Similarity: 0.36;  what ground transportation is available in boston\n",
            "Similarity: 0.33;  show me boston ground transportation\n",
            "Similarity: 0.27;  show me the airlines that fly between toronto and denver\n",
            "Similarity: 0.27;  which airlines fly between boston and pittsburgh\n",
            "Similarity: 0.25;  which airlines fly from boston to washington dc via other cities\n",
            "Similarity: 0.24;  of all airlines which airline has the most arrivals in atlanta\n",
            "Similarity: 0.18;  i'd like the lowest fare from denver to pittsburgh\n",
            "Similarity: 0.17;  show me round trip first class tickets from new york to miami\n",
            "Similarity: 0.17;  i would like your rates between atlanta and boston on september third\n"
          ]
        }
      ]
    },
    {
      "cell_type": "markdown",
      "source": [
        "CLUSTERING"
      ],
      "metadata": {
        "id": "TaQEXLnrG9ri"
      }
    },
    {
      "cell_type": "code",
      "source": [
        "# Embed the text for clustering\n",
        "df['clustering_embeds'] = get_embeddings(df['query'].tolist(), input_type=\"clustering\")\n",
        "embeds = np.array(df['clustering_embeds'].tolist())"
      ],
      "metadata": {
        "id": "5L_C7SwyGRDC"
      },
      "execution_count": 25,
      "outputs": []
    },
    {
      "cell_type": "code",
      "metadata": {
        "id": "070e9726"
      },
      "source": [
        "# Perform PCA for dimensionality reduction before clustering\n",
        "pca = PCA(n_components=2)\n",
        "embeds_pca = pca.fit_transform(embeds)\n",
        "\n",
        "# Store the PCA results in a new DataFrame\n",
        "df_pc2 = pd.DataFrame(embeds_pca, columns=['pc1', 'pc2'])"
      ],
      "execution_count": 27,
      "outputs": []
    },
    {
      "cell_type": "code",
      "source": [
        "# Pick the number of clusters\n",
        "n_clusters = 2\n",
        "\n",
        "# Cluster the embeddings\n",
        "kmeans_model = KMeans(n_clusters=n_clusters, random_state=0, n_init=10)\n",
        "classes = kmeans_model.fit_predict(embeds_pca).tolist()\n",
        "\n",
        "# Store the cluster assignments\n",
        "df_clust = df_pc2.copy()\n",
        "df_clust['cluster'] = (list(map(str,classes)))"
      ],
      "metadata": {
        "id": "bBS69wEQHDtR"
      },
      "execution_count": 28,
      "outputs": []
    },
    {
      "cell_type": "code",
      "source": [],
      "metadata": {
        "id": "tIuJR5N1IGi5"
      },
      "execution_count": null,
      "outputs": []
    },
    {
      "cell_type": "code",
      "metadata": {
        "colab": {
          "base_uri": "https://localhost:8080/",
          "height": 386
        },
        "id": "090e18c1",
        "outputId": "2b2a96f3-3885-4cba-c2ac-132d0cf6799e"
      },
      "source": [
        "# Visualize the clusters using Altair\n",
        "chart = alt.Chart(df_clust).mark_circle(size=60).encode(\n",
        "    x='pc1',\n",
        "    y='pc2',\n",
        "    color='cluster',\n",
        "    tooltip=['pc1', 'pc2', 'cluster']\n",
        ").properties(\n",
        "    title='Query Clusters (PCA reduced to 2 components)'\n",
        ").interactive()\n",
        "\n",
        "chart.display()"
      ],
      "execution_count": 29,
      "outputs": [
        {
          "output_type": "display_data",
          "data": {
            "text/html": [
              "\n",
              "<style>\n",
              "  #altair-viz-8f8eff13ef3e45d08116d8246b5eb28f.vega-embed {\n",
              "    width: 100%;\n",
              "    display: flex;\n",
              "  }\n",
              "\n",
              "  #altair-viz-8f8eff13ef3e45d08116d8246b5eb28f.vega-embed details,\n",
              "  #altair-viz-8f8eff13ef3e45d08116d8246b5eb28f.vega-embed details summary {\n",
              "    position: relative;\n",
              "  }\n",
              "</style>\n",
              "<div id=\"altair-viz-8f8eff13ef3e45d08116d8246b5eb28f\"></div>\n",
              "<script type=\"text/javascript\">\n",
              "  var VEGA_DEBUG = (typeof VEGA_DEBUG == \"undefined\") ? {} : VEGA_DEBUG;\n",
              "  (function(spec, embedOpt){\n",
              "    let outputDiv = document.currentScript.previousElementSibling;\n",
              "    if (outputDiv.id !== \"altair-viz-8f8eff13ef3e45d08116d8246b5eb28f\") {\n",
              "      outputDiv = document.getElementById(\"altair-viz-8f8eff13ef3e45d08116d8246b5eb28f\");\n",
              "    }\n",
              "\n",
              "    const paths = {\n",
              "      \"vega\": \"https://cdn.jsdelivr.net/npm/vega@5?noext\",\n",
              "      \"vega-lib\": \"https://cdn.jsdelivr.net/npm/vega-lib?noext\",\n",
              "      \"vega-lite\": \"https://cdn.jsdelivr.net/npm/vega-lite@5.20.1?noext\",\n",
              "      \"vega-embed\": \"https://cdn.jsdelivr.net/npm/vega-embed@6?noext\",\n",
              "    };\n",
              "\n",
              "    function maybeLoadScript(lib, version) {\n",
              "      var key = `${lib.replace(\"-\", \"\")}_version`;\n",
              "      return (VEGA_DEBUG[key] == version) ?\n",
              "        Promise.resolve(paths[lib]) :\n",
              "        new Promise(function(resolve, reject) {\n",
              "          var s = document.createElement('script');\n",
              "          document.getElementsByTagName(\"head\")[0].appendChild(s);\n",
              "          s.async = true;\n",
              "          s.onload = () => {\n",
              "            VEGA_DEBUG[key] = version;\n",
              "            return resolve(paths[lib]);\n",
              "          };\n",
              "          s.onerror = () => reject(`Error loading script: ${paths[lib]}`);\n",
              "          s.src = paths[lib];\n",
              "        });\n",
              "    }\n",
              "\n",
              "    function showError(err) {\n",
              "      outputDiv.innerHTML = `<div class=\"error\" style=\"color:red;\">${err}</div>`;\n",
              "      throw err;\n",
              "    }\n",
              "\n",
              "    function displayChart(vegaEmbed) {\n",
              "      vegaEmbed(outputDiv, spec, embedOpt)\n",
              "        .catch(err => showError(`Javascript Error: ${err.message}<br>This usually means there's a typo in your chart specification. See the javascript console for the full traceback.`));\n",
              "    }\n",
              "\n",
              "    if(typeof define === \"function\" && define.amd) {\n",
              "      requirejs.config({paths});\n",
              "      let deps = [\"vega-embed\"];\n",
              "      require(deps, displayChart, err => showError(`Error loading script: ${err.message}`));\n",
              "    } else {\n",
              "      maybeLoadScript(\"vega\", \"5\")\n",
              "        .then(() => maybeLoadScript(\"vega-lite\", \"5.20.1\"))\n",
              "        .then(() => maybeLoadScript(\"vega-embed\", \"6\"))\n",
              "        .catch(showError)\n",
              "        .then(() => displayChart(vegaEmbed));\n",
              "    }\n",
              "  })({\"config\": {\"view\": {\"continuousWidth\": 300, \"continuousHeight\": 300}}, \"data\": {\"name\": \"data-ad6d4c9bf31230c14cfa1b60fa1b80f5\"}, \"mark\": {\"type\": \"circle\", \"size\": 60}, \"encoding\": {\"color\": {\"field\": \"cluster\", \"type\": \"nominal\"}, \"tooltip\": [{\"field\": \"pc1\", \"type\": \"quantitative\"}, {\"field\": \"pc2\", \"type\": \"quantitative\"}, {\"field\": \"cluster\", \"type\": \"nominal\"}], \"x\": {\"field\": \"pc1\", \"type\": \"quantitative\"}, \"y\": {\"field\": \"pc2\", \"type\": \"quantitative\"}}, \"params\": [{\"name\": \"param_1\", \"select\": {\"type\": \"interval\", \"encodings\": [\"x\", \"y\"]}, \"bind\": \"scales\"}], \"title\": \"Query Clusters (PCA reduced to 2 components)\", \"$schema\": \"https://vega.github.io/schema/vega-lite/v5.20.1.json\", \"datasets\": {\"data-ad6d4c9bf31230c14cfa1b60fa1b80f5\": [{\"pc1\": -0.07428021061091823, \"pc2\": 0.3361433704548276, \"cluster\": \"0\"}, {\"pc1\": -0.026721780355425623, \"pc2\": -0.13760298288862496, \"cluster\": \"0\"}, {\"pc1\": -0.1868630454629499, \"pc2\": 0.14593261092545243, \"cluster\": \"0\"}, {\"pc1\": -0.22723185123413817, \"pc2\": -0.500873155453648, \"cluster\": \"0\"}, {\"pc1\": 0.41050681571223846, \"pc2\": 0.24995274341089094, \"cluster\": \"1\"}, {\"pc1\": 0.36592233635654176, \"pc2\": 0.2263291145791816, \"cluster\": \"1\"}, {\"pc1\": -0.009634525616119553, \"pc2\": 0.07611189501845618, \"cluster\": \"0\"}, {\"pc1\": 0.48032357471599985, \"pc2\": 0.23472120622447834, \"cluster\": \"1\"}, {\"pc1\": -0.16554140286766258, \"pc2\": 0.22983212653403612, \"cluster\": \"0\"}, {\"pc1\": -0.16979635924740963, \"pc2\": 0.08080784414444332, \"cluster\": \"0\"}, {\"pc1\": 0.09576201943748801, \"pc2\": 0.1256982624924481, \"cluster\": \"0\"}, {\"pc1\": -0.2529414424799479, \"pc2\": 0.020933878598297387, \"cluster\": \"0\"}, {\"pc1\": 0.5746500835214404, \"pc2\": -0.07859335804438615, \"cluster\": \"1\"}, {\"pc1\": -0.19655083004889193, \"pc2\": 0.0299881090261383, \"cluster\": \"0\"}, {\"pc1\": 0.5617589749515245, \"pc2\": -0.07057383698064786, \"cluster\": \"1\"}, {\"pc1\": -0.2718004470729868, \"pc2\": 0.044024271517612984, \"cluster\": \"0\"}, {\"pc1\": 0.5196854825614234, \"pc2\": -0.05678054230188089, \"cluster\": \"1\"}, {\"pc1\": -0.07656033881947594, \"pc2\": 0.27087610398467654, \"cluster\": \"0\"}, {\"pc1\": -0.2605195540838219, \"pc2\": -0.19769209956270503, \"cluster\": \"0\"}, {\"pc1\": -0.24632988528021885, \"pc2\": 0.1390612076444743, \"cluster\": \"0\"}, {\"pc1\": -0.17908660460891565, \"pc2\": 0.298901959144164, \"cluster\": \"0\"}, {\"pc1\": -0.19648702116436323, \"pc2\": 0.1262620884465347, \"cluster\": \"0\"}, {\"pc1\": -0.23876963748475727, \"pc2\": -0.1952545592400089, \"cluster\": \"0\"}, {\"pc1\": -0.2688491135539774, \"pc2\": -0.32635372602797763, \"cluster\": \"0\"}, {\"pc1\": -0.22670960218541578, \"pc2\": -0.31746300733740074, \"cluster\": \"0\"}, {\"pc1\": 0.25109705799539045, \"pc2\": -0.13725607023457423, \"cluster\": \"1\"}, {\"pc1\": 0.20502865338410134, \"pc2\": -0.3046022243919025, \"cluster\": \"1\"}, {\"pc1\": -0.28011151192584954, \"pc2\": -0.24214885098627978, \"cluster\": \"0\"}, {\"pc1\": -0.17605497224436864, \"pc2\": 0.08730735742355411, \"cluster\": \"0\"}, {\"pc1\": 0.45358895680713496, \"pc2\": -0.029840843724594203, \"cluster\": \"1\"}, {\"pc1\": -0.18532292489117236, \"pc2\": 0.256850067076695, \"cluster\": \"0\"}, {\"pc1\": 0.3961481591436493, \"pc2\": -0.13222595180986899, \"cluster\": \"1\"}, {\"pc1\": 0.49763824423571396, \"pc2\": 0.005324517825580674, \"cluster\": \"1\"}, {\"pc1\": 0.4293268020499993, \"pc2\": 0.2229015506624294, \"cluster\": \"1\"}, {\"pc1\": -0.03640164666674374, \"pc2\": 0.14586683096722391, \"cluster\": \"0\"}, {\"pc1\": -0.2806173497567017, \"pc2\": 0.2734558616809244, \"cluster\": \"0\"}, {\"pc1\": -0.22639251626476303, \"pc2\": -0.011817578817828049, \"cluster\": \"0\"}, {\"pc1\": -0.001067628483394007, \"pc2\": 0.1583523809592054, \"cluster\": \"0\"}, {\"pc1\": -0.26034348735736523, \"pc2\": -0.05029461732542047, \"cluster\": \"0\"}, {\"pc1\": -0.2304872333562468, \"pc2\": 0.16149023472276924, \"cluster\": \"0\"}, {\"pc1\": 0.4727581067001109, \"pc2\": -0.28324367054637833, \"cluster\": \"1\"}, {\"pc1\": 0.19634623050494793, \"pc2\": 0.13269283251595929, \"cluster\": \"1\"}, {\"pc1\": 0.14942042081193102, \"pc2\": 0.3902171053151732, \"cluster\": \"1\"}, {\"pc1\": -0.32640242449039697, \"pc2\": 0.04229922645586881, \"cluster\": \"0\"}, {\"pc1\": 0.3530200691177511, \"pc2\": -0.04757477040095212, \"cluster\": \"1\"}, {\"pc1\": 0.4475127609153779, \"pc2\": -0.029561640902679657, \"cluster\": \"1\"}, {\"pc1\": -0.1654736691412257, \"pc2\": -0.06910713427863345, \"cluster\": \"0\"}, {\"pc1\": -0.33461972371945603, \"pc2\": -0.3847083235769695, \"cluster\": \"0\"}, {\"pc1\": 0.45358895680713496, \"pc2\": -0.029840843724594203, \"cluster\": \"1\"}, {\"pc1\": -0.33210909150944334, \"pc2\": 0.04739805956664134, \"cluster\": \"0\"}, {\"pc1\": 0.40079103558463075, \"pc2\": 0.03395176291549267, \"cluster\": \"1\"}, {\"pc1\": -0.29678262403727995, \"pc2\": 0.06116961202578046, \"cluster\": \"0\"}, {\"pc1\": -0.33579303026720486, \"pc2\": -0.4579895299576161, \"cluster\": \"0\"}, {\"pc1\": -0.2430518366596215, \"pc2\": 0.05859646279745384, \"cluster\": \"0\"}, {\"pc1\": -0.06194019824333674, \"pc2\": 0.19134497224311528, \"cluster\": \"0\"}, {\"pc1\": -0.3125921948378537, \"pc2\": -0.060692103749224006, \"cluster\": \"0\"}, {\"pc1\": -0.26427618997153185, \"pc2\": -0.18304210080628264, \"cluster\": \"0\"}, {\"pc1\": 0.2713536634060038, \"pc2\": -0.03054846104197702, \"cluster\": \"1\"}, {\"pc1\": 0.4928667727112021, \"pc2\": -0.3104126936002183, \"cluster\": \"1\"}, {\"pc1\": -0.21559768374752766, \"pc2\": 0.12101102272844383, \"cluster\": \"0\"}, {\"pc1\": -0.2438699678237054, \"pc2\": 0.06880119083180818, \"cluster\": \"0\"}, {\"pc1\": -0.24375902666764093, \"pc2\": 0.2661331899856946, \"cluster\": \"0\"}, {\"pc1\": -0.1726672518232511, \"pc2\": -0.2198970469714805, \"cluster\": \"0\"}, {\"pc1\": 0.5255390341041164, \"pc2\": -0.13452445192286167, \"cluster\": \"1\"}, {\"pc1\": -0.07125319134627495, \"pc2\": 0.34492592723020454, \"cluster\": \"0\"}, {\"pc1\": 0.2630796047233661, \"pc2\": -0.1279271909353138, \"cluster\": \"1\"}, {\"pc1\": -0.3223460037349864, \"pc2\": 0.20003345109655374, \"cluster\": \"0\"}, {\"pc1\": -0.2397499204375114, \"pc2\": -0.49777717037404245, \"cluster\": \"0\"}, {\"pc1\": -0.004774640335881956, \"pc2\": -0.1999547781999003, \"cluster\": \"0\"}, {\"pc1\": -0.13774834692838778, \"pc2\": 0.15310197403269676, \"cluster\": \"0\"}, {\"pc1\": -0.10108608771878953, \"pc2\": -0.05284323912843093, \"cluster\": \"0\"}, {\"pc1\": -0.16148716842525387, \"pc2\": 0.05475733072273361, \"cluster\": \"0\"}, {\"pc1\": -0.2210183268233168, \"pc2\": 0.06421014421280857, \"cluster\": \"0\"}, {\"pc1\": -0.1075774494697819, \"pc2\": -0.0057637731099101554, \"cluster\": \"0\"}, {\"pc1\": 0.05174225196185958, \"pc2\": 0.08921471050231489, \"cluster\": \"0\"}, {\"pc1\": 0.5132100594769743, \"pc2\": -0.11025239979964561, \"cluster\": \"1\"}, {\"pc1\": 0.477205593746358, \"pc2\": -0.06560754350484843, \"cluster\": \"1\"}, {\"pc1\": -0.3179962335892566, \"pc2\": 0.18519168022103952, \"cluster\": \"0\"}, {\"pc1\": -0.23986285340466432, \"pc2\": 0.23396205028916256, \"cluster\": \"0\"}, {\"pc1\": 0.5120541422202465, \"pc2\": 0.0012133570706389723, \"cluster\": \"1\"}, {\"pc1\": -0.27710897400848467, \"pc2\": -0.47190286440460816, \"cluster\": \"0\"}, {\"pc1\": -0.005631571462777878, \"pc2\": -0.1457459745588893, \"cluster\": \"0\"}, {\"pc1\": -0.2783726029144154, \"pc2\": -0.19657441908898335, \"cluster\": \"0\"}, {\"pc1\": 0.12479921105764465, \"pc2\": 0.11393424274890682, \"cluster\": \"1\"}, {\"pc1\": -0.2078073189546364, \"pc2\": 0.3013357019903955, \"cluster\": \"0\"}, {\"pc1\": -0.2324362685222348, \"pc2\": -0.033858194302905036, \"cluster\": \"0\"}, {\"pc1\": 0.5149009228392468, \"pc2\": -0.06725129257530384, \"cluster\": \"1\"}, {\"pc1\": -0.021546491351960857, \"pc2\": 0.12805887385399115, \"cluster\": \"0\"}, {\"pc1\": -0.2913676854581636, \"pc2\": -0.25636266800614876, \"cluster\": \"0\"}, {\"pc1\": 0.4784686736342148, \"pc2\": 0.012590920099204603, \"cluster\": \"1\"}, {\"pc1\": -0.20051570024550885, \"pc2\": 0.019066289679967843, \"cluster\": \"0\"}]}}, {\"mode\": \"vega-lite\"});\n",
              "</script>"
            ],
            "text/plain": [
              "alt.Chart(...)"
            ]
          },
          "metadata": {}
        }
      ]
    }
  ]
}